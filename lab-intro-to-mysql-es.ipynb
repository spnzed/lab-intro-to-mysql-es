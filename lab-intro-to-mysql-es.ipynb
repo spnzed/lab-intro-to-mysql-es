{
 "cells": [
  {
   "cell_type": "markdown",
   "metadata": {},
   "source": [
    "Consulta 1: Obtén los valores de id de los primeros 5 clientes del district_id con un valor igual a 1."
   ]
  },
  {
   "cell_type": "code",
   "execution_count": null,
   "metadata": {
    "vscode": {
     "languageId": "sql"
    }
   },
   "outputs": [],
   "source": [
    "SELECT client_id\n",
    "FROM client\n",
    "WHERE district_id = 1\n",
    "ORDER BY client_id ASC\n",
    "LIMIT 5;"
   ]
  },
  {
   "cell_type": "markdown",
   "metadata": {},
   "source": [
    "Consulta 2: En la tabla client, obtén el valor de id del último cliente donde el district_id sea igual a 72."
   ]
  },
  {
   "cell_type": "code",
   "execution_count": null,
   "metadata": {
    "vscode": {
     "languageId": "sql"
    }
   },
   "outputs": [],
   "source": [
    "SELECT client_id\n",
    "FROM client\n",
    "WHERE district_id = 72\n",
    "ORDER BY client_id DESC\n",
    "LIMIT 1;"
   ]
  },
  {
   "cell_type": "markdown",
   "metadata": {},
   "source": [
    "Consulta 3: Obtén las 3 cantidades más bajas en la tabla loan."
   ]
  },
  {
   "cell_type": "code",
   "execution_count": null,
   "metadata": {
    "vscode": {
     "languageId": "sql"
    }
   },
   "outputs": [],
   "source": [
    "SELECT amount\n",
    "FROM loan\n",
    "ORDER BY amount ASC\n",
    "LIMIT 3;"
   ]
  },
  {
   "cell_type": "markdown",
   "metadata": {},
   "source": [
    "Consulta 4: ¿Cuáles son los valores posibles para status, ordenados alfabéticamente en orden ascendente en la tabla loan?"
   ]
  },
  {
   "cell_type": "code",
   "execution_count": null,
   "metadata": {
    "vscode": {
     "languageId": "sql"
    }
   },
   "outputs": [],
   "source": [
    "SELECT DISTINCT status\n",
    "FROM loan\n",
    "ORDER BY status;"
   ]
  },
  {
   "cell_type": "markdown",
   "metadata": {},
   "source": [
    "Consulta 5: ¿Cuál es el loan_id del pago más alto recibido en la tabla loan?"
   ]
  },
  {
   "cell_type": "code",
   "execution_count": null,
   "metadata": {
    "vscode": {
     "languageId": "sql"
    }
   },
   "outputs": [],
   "source": [
    "SELECT loan_id\n",
    "FROM loan\n",
    "ORDER BY payments DESC\n",
    "LIMIT 1;"
   ]
  },
  {
   "cell_type": "markdown",
   "metadata": {},
   "source": [
    "Consulta 6: ¿Cuál es el monto del préstamo de los 5 account_id más bajos en la tabla loan? Muestra el account_id y el monto correspondiente."
   ]
  },
  {
   "cell_type": "code",
   "execution_count": null,
   "metadata": {
    "vscode": {
     "languageId": "sql"
    }
   },
   "outputs": [],
   "source": [
    "SELECT account_id, amount\n",
    "FROM loan\n",
    "ORDER BY account_id ASC\n",
    "LIMIT 5;"
   ]
  },
  {
   "cell_type": "markdown",
   "metadata": {},
   "source": [
    "Consulta 7: ¿Cuáles son los account_id con el monto de préstamo más bajo que tienen una duration de préstamo de 60 en la tabla loan?"
   ]
  },
  {
   "cell_type": "code",
   "execution_count": null,
   "metadata": {
    "vscode": {
     "languageId": "sql"
    }
   },
   "outputs": [],
   "source": [
    "SELECT account_id\n",
    "FROM loan\n",
    "WHERE duration = 60\n",
    "ORDER BY amount ASC\n",
    "LIMIT 5;"
   ]
  },
  {
   "cell_type": "markdown",
   "metadata": {},
   "source": [
    "Consulta 8: ¿Cuáles son los valores únicos de k_symbol en la tabla order?"
   ]
  },
  {
   "cell_type": "code",
   "execution_count": null,
   "metadata": {
    "vscode": {
     "languageId": "sql"
    }
   },
   "outputs": [],
   "source": [
    "SELECT DISTINCT k_symbol\n",
    "FROM `order`\n",
    "WHERE k_symbol != ''\n",
    "ORDER BY k_symbol;"
   ]
  },
  {
   "cell_type": "markdown",
   "metadata": {},
   "source": [
    "Consulta 9: En la tabla order, ¿cuáles son los order_id del cliente con el account_id 34?"
   ]
  },
  {
   "cell_type": "code",
   "execution_count": null,
   "metadata": {
    "vscode": {
     "languageId": "sql"
    }
   },
   "outputs": [],
   "source": [
    "SELECT order_id\n",
    "FROM `order`\n",
    "WHERE account_id = 34;"
   ]
  },
  {
   "cell_type": "markdown",
   "metadata": {},
   "source": [
    "Consulta 10: En la tabla order, ¿qué account_id fueron responsables de las órdenes entre order_id 29540 y order_id 29560 (inclusive)?"
   ]
  },
  {
   "cell_type": "code",
   "execution_count": null,
   "metadata": {
    "vscode": {
     "languageId": "sql"
    }
   },
   "outputs": [],
   "source": [
    "SELECT DISTINCT account_id \n",
    "FROM `order`\n",
    "WHERE order_id BETWEEN 29540 AND 29560;"
   ]
  },
  {
   "cell_type": "markdown",
   "metadata": {},
   "source": [
    "Consulta 11: En la tabla order, ¿cuáles son los montos individuales que fueron enviados a (account_to) id 30067122?"
   ]
  },
  {
   "cell_type": "code",
   "execution_count": null,
   "metadata": {
    "vscode": {
     "languageId": "sql"
    }
   },
   "outputs": [],
   "source": [
    "SELECT amount\n",
    "FROM `order`\n",
    "WHERE account_to = 30067122;"
   ]
  },
  {
   "cell_type": "markdown",
   "metadata": {},
   "source": [
    "Consulta 12: En la tabla trans, muestra el trans_id, date, type y amount de las 10 primeras transacciones del account_id 793 en orden cronológico, de las más recientes a las más antiguas."
   ]
  },
  {
   "cell_type": "code",
   "execution_count": null,
   "metadata": {
    "vscode": {
     "languageId": "sql"
    }
   },
   "outputs": [],
   "source": [
    "SELECT trans_id, date, type, amount\n",
    "FROM trans\n",
    "WHERE account_id = 793\n",
    "ORDER BY date DESC\n",
    "LIMIT 10;"
   ]
  },
  {
   "cell_type": "markdown",
   "metadata": {},
   "source": [
    "Consulta 13: En la tabla client, de todos los distritos con un district_id menor que 10, ¿cuántos clientes hay de cada district_id? Muestra los resultados ordenados por district_id en orden ascendente."
   ]
  },
  {
   "cell_type": "code",
   "execution_count": null,
   "metadata": {
    "vscode": {
     "languageId": "sql"
    }
   },
   "outputs": [],
   "source": [
    "SELECT district_id, COUNT(client_id) AS Number_clients\n",
    "FROM client\n",
    "WHERE district_id < 10\n",
    "GROUP BY district_id\n",
    "ORDER BY district_id;"
   ]
  },
  {
   "cell_type": "markdown",
   "metadata": {},
   "source": [
    "Consulta 14: En la tabla card, ¿cuántas tarjetas existen para cada type? Ordena el resultado comenzando con el type más frecuente."
   ]
  },
  {
   "cell_type": "code",
   "execution_count": null,
   "metadata": {
    "vscode": {
     "languageId": "sql"
    }
   },
   "outputs": [],
   "source": [
    "SELECT type, COUNT(card_id) AS cards\n",
    "FROM card\n",
    "GROUP BY type\n",
    "ORDER BY cards DESC;"
   ]
  },
  {
   "cell_type": "markdown",
   "metadata": {},
   "source": [
    "Consulta 15: Usando la tabla loan, imprime el top10 account_id basado en el sumatorio de todos los importes de sus prestamos"
   ]
  },
  {
   "cell_type": "code",
   "execution_count": null,
   "metadata": {
    "vscode": {
     "languageId": "sql"
    }
   },
   "outputs": [],
   "source": [
    "SELECT account_id, SUM(amount)\n",
    "FROM loan\n",
    "GROUP BY account_id\n",
    "ORDER BY SUM(amount) DESC\n",
    "LIMIT 10;"
   ]
  },
  {
   "cell_type": "markdown",
   "metadata": {},
   "source": [
    "Consulta 16: Usando la tabla loan, encuentra el numero de prestamos emitidos por dia, excepto la exclusion 930907, ordenador por fecha descendente"
   ]
  },
  {
   "cell_type": "code",
   "execution_count": null,
   "metadata": {
    "vscode": {
     "languageId": "sql"
    }
   },
   "outputs": [],
   "source": [
    "SELECT date, COUNT(loan_id) \n",
    "FROM loan\n",
    "WHERE date < 930907\n",
    "GROUP BY date\n",
    "ORDER BY date DESC;"
   ]
  },
  {
   "cell_type": "markdown",
   "metadata": {},
   "source": [
    "Consulta 17: En la tabla loan, por cada dia de Diciembre 1997, cuenta el numero de prestamos solicitados por cada duración unica, ordenados por fecha y duracion, ambas en sentido ascendente. Puedes ignorar los dias sin prestamos"
   ]
  },
  {
   "cell_type": "code",
   "execution_count": null,
   "metadata": {
    "vscode": {
     "languageId": "sql"
    }
   },
   "outputs": [],
   "source": [
    "SELECT date, duration, COUNT(loan_id)\n",
    "FROM loan\n",
    "WHERE date BETWEEN 971200 AND 971231 \n",
    "GROUP BY date, duration\n",
    "ORDER BY date, duration ASC;"
   ]
  },
  {
   "cell_type": "markdown",
   "metadata": {},
   "source": [
    "Consulta 18: en la tabla trans, for el account_id 396, suma el importe de transacciones por cada tipo (VYDAJ = Outgoing, PRIJEM= Incoming) Tu salida tiene que tener el account_id, el tipo, la suma de importe como total_amount. Ordena alfabeticamente segun tipo"
   ]
  },
  {
   "cell_type": "code",
   "execution_count": null,
   "metadata": {
    "vscode": {
     "languageId": "sql"
    }
   },
   "outputs": [],
   "source": [
    "SELECT account_id, type, SUM(amount) AS total_amount\n",
    "FROM trans\n",
    "WHERE account_id = 396\n",
    "GROUP BY account_id, type\n",
    "ORDER BY type;"
   ]
  }
 ],
 "metadata": {
  "kernelspec": {
   "display_name": "Python 3.12.4 64-bit",
   "language": "python",
   "name": "python3"
  },
  "language_info": {
   "name": "python",
   "version": "3.12.4"
  },
  "orig_nbformat": 4,
  "vscode": {
   "interpreter": {
    "hash": "b0fa6594d8f4cbf19f97940f81e996739fb7646882a419484c72d19e05852a7e"
   }
  }
 },
 "nbformat": 4,
 "nbformat_minor": 2
}
